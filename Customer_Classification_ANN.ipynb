{
 "cells": [
  {
   "cell_type": "code",
   "execution_count": 6,
   "metadata": {},
   "outputs": [],
   "source": [
    "import numpy as np\n",
    "import pandas as pd\n",
    "import matplotlib.pyplot as plt"
   ]
  },
  {
   "cell_type": "code",
   "execution_count": 7,
   "metadata": {},
   "outputs": [
    {
     "data": {
      "text/html": [
       "<div>\n",
       "<style scoped>\n",
       "    .dataframe tbody tr th:only-of-type {\n",
       "        vertical-align: middle;\n",
       "    }\n",
       "\n",
       "    .dataframe tbody tr th {\n",
       "        vertical-align: top;\n",
       "    }\n",
       "\n",
       "    .dataframe thead th {\n",
       "        text-align: right;\n",
       "    }\n",
       "</style>\n",
       "<table border=\"1\" class=\"dataframe\">\n",
       "  <thead>\n",
       "    <tr style=\"text-align: right;\">\n",
       "      <th></th>\n",
       "      <th>RowNumber</th>\n",
       "      <th>CustomerId</th>\n",
       "      <th>Surname</th>\n",
       "      <th>CreditScore</th>\n",
       "      <th>Geography</th>\n",
       "      <th>Gender</th>\n",
       "      <th>Age</th>\n",
       "      <th>Tenure</th>\n",
       "      <th>Balance</th>\n",
       "      <th>NumOfProducts</th>\n",
       "      <th>HasCrCard</th>\n",
       "      <th>IsActiveMember</th>\n",
       "      <th>EstimatedSalary</th>\n",
       "      <th>Exited</th>\n",
       "    </tr>\n",
       "  </thead>\n",
       "  <tbody>\n",
       "    <tr>\n",
       "      <th>0</th>\n",
       "      <td>1</td>\n",
       "      <td>15634602</td>\n",
       "      <td>Hargrave</td>\n",
       "      <td>619</td>\n",
       "      <td>France</td>\n",
       "      <td>Female</td>\n",
       "      <td>42</td>\n",
       "      <td>2</td>\n",
       "      <td>0.00</td>\n",
       "      <td>1</td>\n",
       "      <td>1</td>\n",
       "      <td>1</td>\n",
       "      <td>101348.88</td>\n",
       "      <td>1</td>\n",
       "    </tr>\n",
       "    <tr>\n",
       "      <th>1</th>\n",
       "      <td>2</td>\n",
       "      <td>15647311</td>\n",
       "      <td>Hill</td>\n",
       "      <td>608</td>\n",
       "      <td>Spain</td>\n",
       "      <td>Female</td>\n",
       "      <td>41</td>\n",
       "      <td>1</td>\n",
       "      <td>83807.86</td>\n",
       "      <td>1</td>\n",
       "      <td>0</td>\n",
       "      <td>1</td>\n",
       "      <td>112542.58</td>\n",
       "      <td>0</td>\n",
       "    </tr>\n",
       "    <tr>\n",
       "      <th>2</th>\n",
       "      <td>3</td>\n",
       "      <td>15619304</td>\n",
       "      <td>Onio</td>\n",
       "      <td>502</td>\n",
       "      <td>France</td>\n",
       "      <td>Female</td>\n",
       "      <td>42</td>\n",
       "      <td>8</td>\n",
       "      <td>159660.80</td>\n",
       "      <td>3</td>\n",
       "      <td>1</td>\n",
       "      <td>0</td>\n",
       "      <td>113931.57</td>\n",
       "      <td>1</td>\n",
       "    </tr>\n",
       "    <tr>\n",
       "      <th>3</th>\n",
       "      <td>4</td>\n",
       "      <td>15701354</td>\n",
       "      <td>Boni</td>\n",
       "      <td>699</td>\n",
       "      <td>France</td>\n",
       "      <td>Female</td>\n",
       "      <td>39</td>\n",
       "      <td>1</td>\n",
       "      <td>0.00</td>\n",
       "      <td>2</td>\n",
       "      <td>0</td>\n",
       "      <td>0</td>\n",
       "      <td>93826.63</td>\n",
       "      <td>0</td>\n",
       "    </tr>\n",
       "    <tr>\n",
       "      <th>4</th>\n",
       "      <td>5</td>\n",
       "      <td>15737888</td>\n",
       "      <td>Mitchell</td>\n",
       "      <td>850</td>\n",
       "      <td>Spain</td>\n",
       "      <td>Female</td>\n",
       "      <td>43</td>\n",
       "      <td>2</td>\n",
       "      <td>125510.82</td>\n",
       "      <td>1</td>\n",
       "      <td>1</td>\n",
       "      <td>1</td>\n",
       "      <td>79084.10</td>\n",
       "      <td>0</td>\n",
       "    </tr>\n",
       "  </tbody>\n",
       "</table>\n",
       "</div>"
      ],
      "text/plain": [
       "   RowNumber  CustomerId   Surname  CreditScore Geography  Gender  Age  \\\n",
       "0          1    15634602  Hargrave          619    France  Female   42   \n",
       "1          2    15647311      Hill          608     Spain  Female   41   \n",
       "2          3    15619304      Onio          502    France  Female   42   \n",
       "3          4    15701354      Boni          699    France  Female   39   \n",
       "4          5    15737888  Mitchell          850     Spain  Female   43   \n",
       "\n",
       "   Tenure    Balance  NumOfProducts  HasCrCard  IsActiveMember  \\\n",
       "0       2       0.00              1          1               1   \n",
       "1       1   83807.86              1          0               1   \n",
       "2       8  159660.80              3          1               0   \n",
       "3       1       0.00              2          0               0   \n",
       "4       2  125510.82              1          1               1   \n",
       "\n",
       "   EstimatedSalary  Exited  \n",
       "0        101348.88       1  \n",
       "1        112542.58       0  \n",
       "2        113931.57       1  \n",
       "3         93826.63       0  \n",
       "4         79084.10       0  "
      ]
     },
     "execution_count": 7,
     "metadata": {},
     "output_type": "execute_result"
    }
   ],
   "source": [
    "dataset = pd.read_csv('Churn_Modelling.csv')\n",
    "dataset.head()"
   ]
  },
  {
   "cell_type": "code",
   "execution_count": 8,
   "metadata": {},
   "outputs": [
    {
     "data": {
      "text/plain": [
       "array([[619, 'France', 'Female', ..., 1, 1, 101348.88],\n",
       "       [608, 'Spain', 'Female', ..., 0, 1, 112542.58],\n",
       "       [502, 'France', 'Female', ..., 1, 0, 113931.57],\n",
       "       ...,\n",
       "       [709, 'France', 'Female', ..., 0, 1, 42085.58],\n",
       "       [772, 'Germany', 'Male', ..., 1, 0, 92888.52],\n",
       "       [792, 'France', 'Female', ..., 1, 0, 38190.78]], dtype=object)"
      ]
     },
     "execution_count": 8,
     "metadata": {},
     "output_type": "execute_result"
    }
   ],
   "source": [
    "X = dataset.iloc[:,3:13].values\n",
    "X"
   ]
  },
  {
   "cell_type": "code",
   "execution_count": 9,
   "metadata": {},
   "outputs": [
    {
     "data": {
      "text/plain": [
       "array([1, 0, 1, ..., 1, 1, 0], dtype=int64)"
      ]
     },
     "execution_count": 9,
     "metadata": {},
     "output_type": "execute_result"
    }
   ],
   "source": [
    "y = dataset.iloc[:,13].values\n",
    "y"
   ]
  },
  {
   "cell_type": "code",
   "execution_count": 10,
   "metadata": {},
   "outputs": [
    {
     "data": {
      "text/plain": [
       "array([[619, 0, 'Female', ..., 1, 1, 101348.88],\n",
       "       [608, 2, 'Female', ..., 0, 1, 112542.58],\n",
       "       [502, 0, 'Female', ..., 1, 0, 113931.57],\n",
       "       ...,\n",
       "       [709, 0, 'Female', ..., 0, 1, 42085.58],\n",
       "       [772, 1, 'Male', ..., 1, 0, 92888.52],\n",
       "       [792, 0, 'Female', ..., 1, 0, 38190.78]], dtype=object)"
      ]
     },
     "execution_count": 10,
     "metadata": {},
     "output_type": "execute_result"
    }
   ],
   "source": [
    "# Encoding categorical data\n",
    "# Encoding the Independent Variable\n",
    "from sklearn.preprocessing import LabelEncoder, OneHotEncoder\n",
    "labelencoder_X_1 = LabelEncoder()\n",
    "X[:, 1] = labelencoder_X_1.fit_transform(X[:, 1])\n",
    "X"
   ]
  },
  {
   "cell_type": "code",
   "execution_count": 11,
   "metadata": {},
   "outputs": [
    {
     "data": {
      "text/plain": [
       "array([[619, 0, 0, ..., 1, 1, 101348.88],\n",
       "       [608, 2, 0, ..., 0, 1, 112542.58],\n",
       "       [502, 0, 0, ..., 1, 0, 113931.57],\n",
       "       ...,\n",
       "       [709, 0, 0, ..., 0, 1, 42085.58],\n",
       "       [772, 1, 1, ..., 1, 0, 92888.52],\n",
       "       [792, 0, 0, ..., 1, 0, 38190.78]], dtype=object)"
      ]
     },
     "execution_count": 11,
     "metadata": {},
     "output_type": "execute_result"
    }
   ],
   "source": [
    "labelencoder_X_2 = LabelEncoder()\n",
    "X[:, 2] = labelencoder_X_2.fit_transform(X[:, 2])\n",
    "X"
   ]
  },
  {
   "cell_type": "code",
   "execution_count": 12,
   "metadata": {},
   "outputs": [
    {
     "name": "stderr",
     "output_type": "stream",
     "text": [
      "C:\\Users\\vu995fy\\AppData\\Local\\Continuum\\anaconda3\\lib\\site-packages\\sklearn\\preprocessing\\_encoders.py:371: FutureWarning: The handling of integer data will change in version 0.22. Currently, the categories are determined based on the range [0, max(values)], while in the future they will be determined based on the unique values.\n",
      "If you want the future behaviour and silence this warning, you can specify \"categories='auto'\".\n",
      "In case you used a LabelEncoder before this OneHotEncoder to convert the categories to integers, then you can now use the OneHotEncoder directly.\n",
      "  warnings.warn(msg, FutureWarning)\n",
      "C:\\Users\\vu995fy\\AppData\\Local\\Continuum\\anaconda3\\lib\\site-packages\\sklearn\\preprocessing\\_encoders.py:392: DeprecationWarning: The 'categorical_features' keyword is deprecated in version 0.20 and will be removed in 0.22. You can use the ColumnTransformer instead.\n",
      "  \"use the ColumnTransformer instead.\", DeprecationWarning)\n"
     ]
    }
   ],
   "source": [
    "#creating dummy_variables\n",
    "onehotencoder = OneHotEncoder(categorical_features = [1])\n",
    "X = onehotencoder.fit_transform(X).toarray()"
   ]
  },
  {
   "cell_type": "code",
   "execution_count": 13,
   "metadata": {},
   "outputs": [
    {
     "data": {
      "text/plain": [
       "array([[1.0000000e+00, 0.0000000e+00, 0.0000000e+00, ..., 1.0000000e+00,\n",
       "        1.0000000e+00, 1.0134888e+05],\n",
       "       [0.0000000e+00, 0.0000000e+00, 1.0000000e+00, ..., 0.0000000e+00,\n",
       "        1.0000000e+00, 1.1254258e+05],\n",
       "       [1.0000000e+00, 0.0000000e+00, 0.0000000e+00, ..., 1.0000000e+00,\n",
       "        0.0000000e+00, 1.1393157e+05],\n",
       "       ...,\n",
       "       [1.0000000e+00, 0.0000000e+00, 0.0000000e+00, ..., 0.0000000e+00,\n",
       "        1.0000000e+00, 4.2085580e+04],\n",
       "       [0.0000000e+00, 1.0000000e+00, 0.0000000e+00, ..., 1.0000000e+00,\n",
       "        0.0000000e+00, 9.2888520e+04],\n",
       "       [1.0000000e+00, 0.0000000e+00, 0.0000000e+00, ..., 1.0000000e+00,\n",
       "        0.0000000e+00, 3.8190780e+04]])"
      ]
     },
     "execution_count": 13,
     "metadata": {},
     "output_type": "execute_result"
    }
   ],
   "source": [
    "X"
   ]
  },
  {
   "cell_type": "code",
   "execution_count": 14,
   "metadata": {},
   "outputs": [],
   "source": [
    "X = X[:, 1:]"
   ]
  },
  {
   "cell_type": "code",
   "execution_count": 15,
   "metadata": {},
   "outputs": [],
   "source": [
    "from sklearn.model_selection import train_test_split\n",
    "#from sklearn.cross_validation import train_test_split\n",
    "X_train, X_test, y_train, y_test = train_test_split(X, y, test_size = 0.2, random_state = 0)\n"
   ]
  },
  {
   "cell_type": "code",
   "execution_count": 16,
   "metadata": {},
   "outputs": [],
   "source": [
    "# Feature Scaling\n",
    "from sklearn.preprocessing import StandardScaler\n",
    "sc = StandardScaler()\n",
    "X_train = sc.fit_transform(X_train)\n",
    "X_test = sc.transform(X_test)"
   ]
  },
  {
   "cell_type": "code",
   "execution_count": 17,
   "metadata": {},
   "outputs": [
    {
     "data": {
      "text/plain": [
       "array([[-0.5698444 ,  1.74309049,  0.16958176, ...,  0.64259497,\n",
       "        -1.03227043,  1.10643166],\n",
       "       [ 1.75486502, -0.57369368, -2.30455945, ...,  0.64259497,\n",
       "         0.9687384 , -0.74866447],\n",
       "       [-0.5698444 , -0.57369368, -1.19119591, ...,  0.64259497,\n",
       "        -1.03227043,  1.48533467],\n",
       "       ...,\n",
       "       [-0.5698444 , -0.57369368,  0.9015152 , ...,  0.64259497,\n",
       "        -1.03227043,  1.41231994],\n",
       "       [-0.5698444 ,  1.74309049, -0.62420521, ...,  0.64259497,\n",
       "         0.9687384 ,  0.84432121],\n",
       "       [ 1.75486502, -0.57369368, -0.28401079, ...,  0.64259497,\n",
       "        -1.03227043,  0.32472465]])"
      ]
     },
     "execution_count": 17,
     "metadata": {},
     "output_type": "execute_result"
    }
   ],
   "source": [
    "X_train"
   ]
  },
  {
   "cell_type": "code",
   "execution_count": 42,
   "metadata": {},
   "outputs": [
    {
     "data": {
      "text/plain": [
       "array([[ 1.75486502, -0.57369368, -0.55204276, ...,  0.64259497,\n",
       "         0.9687384 ,  1.61085707],\n",
       "       [-0.5698444 , -0.57369368, -1.31490297, ...,  0.64259497,\n",
       "        -1.03227043,  0.49587037],\n",
       "       [-0.5698444 ,  1.74309049,  0.57162971, ...,  0.64259497,\n",
       "         0.9687384 , -0.42478674],\n",
       "       ...,\n",
       "       [-0.5698444 ,  1.74309049, -0.74791227, ...,  0.64259497,\n",
       "        -1.03227043,  0.71888467],\n",
       "       [ 1.75486502, -0.57369368, -0.00566991, ...,  0.64259497,\n",
       "         0.9687384 , -1.54507805],\n",
       "       [ 1.75486502, -0.57369368, -0.79945688, ...,  0.64259497,\n",
       "        -1.03227043,  1.61255917]])"
      ]
     },
     "execution_count": 42,
     "metadata": {},
     "output_type": "execute_result"
    }
   ],
   "source": [
    "X_test"
   ]
  },
  {
   "cell_type": "code",
   "execution_count": 31,
   "metadata": {},
   "outputs": [],
   "source": [
    "import keras\n",
    "#initializes neural networks\n",
    "from tensorflow.keras.models import Sequential\n",
    "#creates layers in artificial neural networks\n",
    "from keras.layers import Dense\n",
    "from keras.models import Sequential\n",
    "from keras.layers import Dense, Activation, Flatten"
   ]
  },
  {
   "cell_type": "code",
   "execution_count": 32,
   "metadata": {},
   "outputs": [],
   "source": [
    "from keras.layers import Dropout"
   ]
  },
  {
   "cell_type": "code",
   "execution_count": 33,
   "metadata": {},
   "outputs": [],
   "source": [
    "#initializing the ANN\n",
    "classifier = Sequential()"
   ]
  },
  {
   "cell_type": "code",
   "execution_count": 34,
   "metadata": {},
   "outputs": [],
   "source": [
    "#randomly initialize the weights to small numbers close to zero\n",
    "#input the first observation of your dataset in the input layer, each feature in one input node\n",
    "#forward propagation - left to right - the neurons are activated in a way taht the impact of each neuron's activation is limited by weights. Propagate the activations until getting the predicted result y\n",
    "#compare the predicted result to the actual result, measure the generated error\n",
    "#back propagation- right to left - error is back propagated,update the weights according to how much they are responsible for the error,the learnig rate decides how much do we update the weights\n",
    "#repeat steps 1 to 5\n",
    "#when the whole training set is passed through the ANN, that makes the epoch. Do more epochs"
   ]
  },
  {
   "cell_type": "code",
   "execution_count": 36,
   "metadata": {},
   "outputs": [
    {
     "name": "stdout",
     "output_type": "stream",
     "text": [
      "WARNING:tensorflow:From C:\\Users\\vu995fy\\AppData\\Local\\Continuum\\anaconda3\\lib\\site-packages\\tensorflow\\python\\ops\\resource_variable_ops.py:435: colocate_with (from tensorflow.python.framework.ops) is deprecated and will be removed in a future version.\n",
      "Instructions for updating:\n",
      "Colocations handled automatically by placer.\n"
     ]
    },
    {
     "name": "stderr",
     "output_type": "stream",
     "text": [
      "C:\\Users\\vu995fy\\AppData\\Local\\Continuum\\anaconda3\\lib\\site-packages\\ipykernel_launcher.py:2: UserWarning: Update your `Dropout` call to the Keras 2 API: `Dropout(rate=0.1)`\n",
      "  \n"
     ]
    }
   ],
   "source": [
    "classifier.add(Dense(6,kernel_initializer='uniform', input_dim=11))\n",
    "classifier.add(Dropout(p = 0.1))"
   ]
  },
  {
   "cell_type": "code",
   "execution_count": 37,
   "metadata": {},
   "outputs": [],
   "source": [
    "classifier.add(Activation('relu'))"
   ]
  },
  {
   "cell_type": "code",
   "execution_count": 38,
   "metadata": {},
   "outputs": [
    {
     "name": "stderr",
     "output_type": "stream",
     "text": [
      "C:\\Users\\vu995fy\\AppData\\Local\\Continuum\\anaconda3\\lib\\site-packages\\ipykernel_launcher.py:3: UserWarning: Update your `Dropout` call to the Keras 2 API: `Dropout(rate=0.1)`\n",
      "  This is separate from the ipykernel package so we can avoid doing imports until\n"
     ]
    }
   ],
   "source": [
    "#adding the second hidden layer\n",
    "classifier.add(Dense(6,kernel_initializer = 'uniform', activation = 'relu'))\n",
    "classifier.add(Dropout(p = 0.1))"
   ]
  },
  {
   "cell_type": "code",
   "execution_count": 39,
   "metadata": {},
   "outputs": [],
   "source": [
    "#output layer\n",
    "#replacing with sigmoid activation function to have the probability at the ouput layer\n",
    "classifier.add(Dense(1,kernel_initializer = 'uniform', activation = 'sigmoid'))"
   ]
  },
  {
   "cell_type": "code",
   "execution_count": 40,
   "metadata": {},
   "outputs": [],
   "source": [
    "#compiling the ANN\n",
    "#binary outcome so loss function, accuracy to improve the model performance\n",
    "classifier.compile(optimizer ='adam', loss ='binary_crossentropy', metrics = ['accuracy'])"
   ]
  },
  {
   "cell_type": "code",
   "execution_count": 41,
   "metadata": {},
   "outputs": [
    {
     "name": "stdout",
     "output_type": "stream",
     "text": [
      "WARNING:tensorflow:From C:\\Users\\vu995fy\\AppData\\Local\\Continuum\\anaconda3\\lib\\site-packages\\tensorflow\\python\\ops\\math_ops.py:3066: to_int32 (from tensorflow.python.ops.math_ops) is deprecated and will be removed in a future version.\n",
      "Instructions for updating:\n",
      "Use tf.cast instead.\n"
     ]
    },
    {
     "name": "stderr",
     "output_type": "stream",
     "text": [
      "C:\\Users\\vu995fy\\AppData\\Local\\Continuum\\anaconda3\\lib\\site-packages\\ipykernel_launcher.py:1: UserWarning: The `nb_epoch` argument in `fit` has been renamed `epochs`.\n",
      "  \"\"\"Entry point for launching an IPython kernel.\n"
     ]
    },
    {
     "name": "stdout",
     "output_type": "stream",
     "text": [
      "Epoch 1/100\n",
      "8000/8000 [==============================] - 1s 127us/step - loss: 0.4895 - accuracy: 0.7959\n",
      "Epoch 2/100\n",
      "8000/8000 [==============================] - 1s 99us/step - loss: 0.4378 - accuracy: 0.7960\n",
      "Epoch 3/100\n",
      "8000/8000 [==============================] - 1s 106us/step - loss: 0.4351 - accuracy: 0.7960\n",
      "Epoch 4/100\n",
      "8000/8000 [==============================] - 1s 97us/step - loss: 0.4306 - accuracy: 0.7960\n",
      "Epoch 5/100\n",
      "8000/8000 [==============================] - 1s 93us/step - loss: 0.4310 - accuracy: 0.7960\n",
      "Epoch 6/100\n",
      "8000/8000 [==============================] - 1s 97us/step - loss: 0.4307 - accuracy: 0.7960\n",
      "Epoch 7/100\n",
      "8000/8000 [==============================] - 1s 108us/step - loss: 0.4278 - accuracy: 0.8066\n",
      "Epoch 8/100\n",
      "8000/8000 [==============================] - 1s 114us/step - loss: 0.4247 - accuracy: 0.8248\n",
      "Epoch 9/100\n",
      "8000/8000 [==============================] - 1s 100us/step - loss: 0.4252 - accuracy: 0.8276\n",
      "Epoch 10/100\n",
      "8000/8000 [==============================] - 1s 111us/step - loss: 0.4251 - accuracy: 0.8254\n",
      "Epoch 11/100\n",
      "8000/8000 [==============================] - 1s 113us/step - loss: 0.4257 - accuracy: 0.8296\n",
      "Epoch 12/100\n",
      "8000/8000 [==============================] - 1s 104us/step - loss: 0.4270 - accuracy: 0.8278\n",
      "Epoch 13/100\n",
      "8000/8000 [==============================] - 1s 100us/step - loss: 0.4236 - accuracy: 0.8290\n",
      "Epoch 14/100\n",
      "8000/8000 [==============================] - 1s 95us/step - loss: 0.4234 - accuracy: 0.8299\n",
      "Epoch 15/100\n",
      "8000/8000 [==============================] - 1s 95us/step - loss: 0.4272 - accuracy: 0.8321\n",
      "Epoch 16/100\n",
      "8000/8000 [==============================] - 1s 98us/step - loss: 0.4223 - accuracy: 0.8315\n",
      "Epoch 17/100\n",
      "8000/8000 [==============================] - 1s 105us/step - loss: 0.4235 - accuracy: 0.8300\n",
      "Epoch 18/100\n",
      "8000/8000 [==============================] - 1s 99us/step - loss: 0.4240 - accuracy: 0.8294\n",
      "Epoch 19/100\n",
      "8000/8000 [==============================] - 1s 114us/step - loss: 0.4232 - accuracy: 0.8295\n",
      "Epoch 20/100\n",
      "8000/8000 [==============================] - 1s 98us/step - loss: 0.4210 - accuracy: 0.8292\n",
      "Epoch 21/100\n",
      "8000/8000 [==============================] - 1s 100us/step - loss: 0.4225 - accuracy: 0.8325\n",
      "Epoch 22/100\n",
      "8000/8000 [==============================] - 1s 146us/step - loss: 0.4251 - accuracy: 0.8316\n",
      "Epoch 23/100\n",
      "8000/8000 [==============================] - 1s 135us/step - loss: 0.4227 - accuracy: 0.8291\n",
      "Epoch 24/100\n",
      "8000/8000 [==============================] - 1s 120us/step - loss: 0.4216 - accuracy: 0.8305\n",
      "Epoch 25/100\n",
      "8000/8000 [==============================] - 1s 117us/step - loss: 0.4248 - accuracy: 0.8304\n",
      "Epoch 26/100\n",
      "8000/8000 [==============================] - 1s 130us/step - loss: 0.4261 - accuracy: 0.8315\n",
      "Epoch 27/100\n",
      "8000/8000 [==============================] - 1s 154us/step - loss: 0.4234 - accuracy: 0.8315\n",
      "Epoch 28/100\n",
      "8000/8000 [==============================] - 1s 120us/step - loss: 0.4208 - accuracy: 0.8321\n",
      "Epoch 29/100\n",
      "8000/8000 [==============================] - 1s 116us/step - loss: 0.4215 - accuracy: 0.8300\n",
      "Epoch 30/100\n",
      "8000/8000 [==============================] - 1s 177us/step - loss: 0.4242 - accuracy: 0.8311\n",
      "Epoch 31/100\n",
      "8000/8000 [==============================] - 1s 119us/step - loss: 0.4233 - accuracy: 0.8316\n",
      "Epoch 32/100\n",
      "8000/8000 [==============================] - 1s 148us/step - loss: 0.4229 - accuracy: 0.8304\n",
      "Epoch 33/100\n",
      "8000/8000 [==============================] - 1s 184us/step - loss: 0.4235 - accuracy: 0.8304\n",
      "Epoch 34/100\n",
      "8000/8000 [==============================] - 1s 163us/step - loss: 0.4200 - accuracy: 0.8320\n",
      "Epoch 35/100\n",
      "8000/8000 [==============================] - 1s 146us/step - loss: 0.4254 - accuracy: 0.8315\n",
      "Epoch 36/100\n",
      "8000/8000 [==============================] - 1s 132us/step - loss: 0.4217 - accuracy: 0.8314\n",
      "Epoch 37/100\n",
      "8000/8000 [==============================] - 1s 132us/step - loss: 0.4253 - accuracy: 0.8299\n",
      "Epoch 38/100\n",
      "8000/8000 [==============================] - 1s 115us/step - loss: 0.4208 - accuracy: 0.8315\n",
      "Epoch 39/100\n",
      "8000/8000 [==============================] - 1s 127us/step - loss: 0.4233 - accuracy: 0.8307\n",
      "Epoch 40/100\n",
      "8000/8000 [==============================] - 1s 113us/step - loss: 0.4208 - accuracy: 0.8340\n",
      "Epoch 41/100\n",
      "8000/8000 [==============================] - 1s 142us/step - loss: 0.4247 - accuracy: 0.8339\n",
      "Epoch 42/100\n",
      "8000/8000 [==============================] - 1s 151us/step - loss: 0.4241 - accuracy: 0.8317\n",
      "Epoch 43/100\n",
      "8000/8000 [==============================] - 1s 110us/step - loss: 0.4243 - accuracy: 0.8316\n",
      "Epoch 44/100\n",
      "8000/8000 [==============================] - 1s 173us/step - loss: 0.4209 - accuracy: 0.8307\n",
      "Epoch 45/100\n",
      "8000/8000 [==============================] - 1s 186us/step - loss: 0.4171 - accuracy: 0.8341\n",
      "Epoch 46/100\n",
      "8000/8000 [==============================] - 1s 155us/step - loss: 0.4260 - accuracy: 0.8300\n",
      "Epoch 47/100\n",
      "8000/8000 [==============================] - 1s 146us/step - loss: 0.4228 - accuracy: 0.8322\n",
      "Epoch 48/100\n",
      "8000/8000 [==============================] - 1s 153us/step - loss: 0.4238 - accuracy: 0.8347\n",
      "Epoch 49/100\n",
      "8000/8000 [==============================] - 1s 130us/step - loss: 0.4225 - accuracy: 0.8316\n",
      "Epoch 50/100\n",
      "8000/8000 [==============================] - 1s 137us/step - loss: 0.4219 - accuracy: 0.8306\n",
      "Epoch 51/100\n",
      "8000/8000 [==============================] - 1s 133us/step - loss: 0.4224 - accuracy: 0.8322\n",
      "Epoch 52/100\n",
      "8000/8000 [==============================] - 1s 137us/step - loss: 0.4216 - accuracy: 0.8301\n",
      "Epoch 53/100\n",
      "8000/8000 [==============================] - 1s 132us/step - loss: 0.4215 - accuracy: 0.8316\n",
      "Epoch 54/100\n",
      "8000/8000 [==============================] - 1s 143us/step - loss: 0.4217 - accuracy: 0.8329\n",
      "Epoch 55/100\n",
      "8000/8000 [==============================] - 1s 158us/step - loss: 0.4238 - accuracy: 0.8311\n",
      "Epoch 56/100\n",
      "8000/8000 [==============================] - 1s 161us/step - loss: 0.4198 - accuracy: 0.8328\n",
      "Epoch 57/100\n",
      "8000/8000 [==============================] - 1s 168us/step - loss: 0.4212 - accuracy: 0.8309\n",
      "Epoch 58/100\n",
      "8000/8000 [==============================] - 1s 138us/step - loss: 0.4201 - accuracy: 0.8342\n",
      "Epoch 59/100\n",
      "8000/8000 [==============================] - 2s 200us/step - loss: 0.4238 - accuracy: 0.8304\n",
      "Epoch 60/100\n",
      "8000/8000 [==============================] - 1s 146us/step - loss: 0.4208 - accuracy: 0.8301\n",
      "Epoch 61/100\n",
      "8000/8000 [==============================] - 1s 137us/step - loss: 0.4185 - accuracy: 0.8317\n",
      "Epoch 62/100\n",
      "8000/8000 [==============================] - 2s 194us/step - loss: 0.4225 - accuracy: 0.8317\n",
      "Epoch 63/100\n",
      "8000/8000 [==============================] - 1s 174us/step - loss: 0.4191 - accuracy: 0.8313\n",
      "Epoch 64/100\n",
      "8000/8000 [==============================] - 1s 168us/step - loss: 0.4213 - accuracy: 0.8294\n",
      "Epoch 65/100\n",
      "8000/8000 [==============================] - 2s 211us/step - loss: 0.4191 - accuracy: 0.8336\n",
      "Epoch 66/100\n",
      "8000/8000 [==============================] - 1s 171us/step - loss: 0.4203 - accuracy: 0.8321\n",
      "Epoch 67/100\n",
      "8000/8000 [==============================] - 2s 274us/step - loss: 0.4210 - accuracy: 0.8325\n",
      "Epoch 68/100\n",
      "8000/8000 [==============================] - 2s 230us/step - loss: 0.4241 - accuracy: 0.8339\n",
      "Epoch 69/100\n",
      "8000/8000 [==============================] - 2s 228us/step - loss: 0.4211 - accuracy: 0.8321\n",
      "Epoch 70/100\n",
      "8000/8000 [==============================] - 2s 270us/step - loss: 0.4197 - accuracy: 0.8322\n",
      "Epoch 71/100\n",
      "8000/8000 [==============================] - 2s 237us/step - loss: 0.4221 - accuracy: 0.8309\n",
      "Epoch 72/100\n",
      "8000/8000 [==============================] - 2s 233us/step - loss: 0.4232 - accuracy: 0.8334\n",
      "Epoch 73/100\n",
      "8000/8000 [==============================] - 2s 224us/step - loss: 0.4171 - accuracy: 0.8336\n",
      "Epoch 74/100\n",
      "8000/8000 [==============================] - 2s 246us/step - loss: 0.4224 - accuracy: 0.8324\n",
      "Epoch 75/100\n",
      "8000/8000 [==============================] - 2s 213us/step - loss: 0.4232 - accuracy: 0.8301\n",
      "Epoch 76/100\n",
      "8000/8000 [==============================] - 1s 154us/step - loss: 0.4197 - accuracy: 0.8320\n",
      "Epoch 77/100\n",
      "8000/8000 [==============================] - 1s 134us/step - loss: 0.4198 - accuracy: 0.8315\n",
      "Epoch 78/100\n"
     ]
    },
    {
     "name": "stdout",
     "output_type": "stream",
     "text": [
      "8000/8000 [==============================] - 1s 121us/step - loss: 0.4218 - accuracy: 0.8300\n",
      "Epoch 79/100\n",
      "8000/8000 [==============================] - 1s 133us/step - loss: 0.4223 - accuracy: 0.8307\n",
      "Epoch 80/100\n",
      "8000/8000 [==============================] - 2s 212us/step - loss: 0.4191 - accuracy: 0.8319\n",
      "Epoch 81/100\n",
      "8000/8000 [==============================] - 1s 180us/step - loss: 0.4221 - accuracy: 0.8307\n",
      "Epoch 82/100\n",
      "8000/8000 [==============================] - 1s 166us/step - loss: 0.4202 - accuracy: 0.8298\n",
      "Epoch 83/100\n",
      "8000/8000 [==============================] - ETA: 0s - loss: 0.4214 - accuracy: 0.83 - 1s 139us/step - loss: 0.4195 - accuracy: 0.8316\n",
      "Epoch 84/100\n",
      "8000/8000 [==============================] - 1s 147us/step - loss: 0.4198 - accuracy: 0.8340\n",
      "Epoch 85/100\n",
      "8000/8000 [==============================] - 1s 126us/step - loss: 0.4186 - accuracy: 0.8303\n",
      "Epoch 86/100\n",
      "8000/8000 [==============================] - 1s 124us/step - loss: 0.4217 - accuracy: 0.8330\n",
      "Epoch 87/100\n",
      "8000/8000 [==============================] - 1s 135us/step - loss: 0.4211 - accuracy: 0.8317\n",
      "Epoch 88/100\n",
      "8000/8000 [==============================] - 1s 127us/step - loss: 0.4209 - accuracy: 0.8341\n",
      "Epoch 89/100\n",
      "8000/8000 [==============================] - 1s 145us/step - loss: 0.4196 - accuracy: 0.8319\n",
      "Epoch 90/100\n",
      "8000/8000 [==============================] - 1s 127us/step - loss: 0.4191 - accuracy: 0.8339\n",
      "Epoch 91/100\n",
      "8000/8000 [==============================] - 1s 134us/step - loss: 0.4195 - accuracy: 0.8338\n",
      "Epoch 92/100\n",
      "8000/8000 [==============================] - 1s 133us/step - loss: 0.4220 - accuracy: 0.8298\n",
      "Epoch 93/100\n",
      "8000/8000 [==============================] - 1s 163us/step - loss: 0.4206 - accuracy: 0.8320\n",
      "Epoch 94/100\n",
      "8000/8000 [==============================] - 1s 145us/step - loss: 0.4203 - accuracy: 0.8339\n",
      "Epoch 95/100\n",
      "8000/8000 [==============================] - 1s 143us/step - loss: 0.4196 - accuracy: 0.8329\n",
      "Epoch 96/100\n",
      "8000/8000 [==============================] - 1s 136us/step - loss: 0.4217 - accuracy: 0.8317\n",
      "Epoch 97/100\n",
      "8000/8000 [==============================] - 1s 164us/step - loss: 0.4173 - accuracy: 0.8330\n",
      "Epoch 98/100\n",
      "8000/8000 [==============================] - 1s 156us/step - loss: 0.4209 - accuracy: 0.8321\n",
      "Epoch 99/100\n",
      "8000/8000 [==============================] - 1s 127us/step - loss: 0.4181 - accuracy: 0.8334\n",
      "Epoch 100/100\n",
      "8000/8000 [==============================] - 1s 134us/step - loss: 0.4238 - accuracy: 0.8338\n"
     ]
    },
    {
     "data": {
      "text/plain": [
       "<keras.callbacks.callbacks.History at 0x1de90bc2a20>"
      ]
     },
     "execution_count": 41,
     "metadata": {},
     "output_type": "execute_result"
    }
   ],
   "source": [
    "classifier.fit(X_train, y_train, batch_size =10, nb_epoch=100)"
   ]
  },
  {
   "cell_type": "code",
   "execution_count": 31,
   "metadata": {},
   "outputs": [],
   "source": [
    "y_pred = classifier.predict(X_test)"
   ]
  },
  {
   "cell_type": "code",
   "execution_count": 32,
   "metadata": {},
   "outputs": [
    {
     "data": {
      "text/plain": [
       "array([[0.17687324],\n",
       "       [0.33393317],\n",
       "       [0.15793908],\n",
       "       ...,\n",
       "       [0.15357381],\n",
       "       [0.13934475],\n",
       "       [0.09980634]], dtype=float32)"
      ]
     },
     "execution_count": 32,
     "metadata": {},
     "output_type": "execute_result"
    }
   ],
   "source": [
    "#probabolities of the customers leaving the bank, 1st one has 25% chance to leace the bank\n",
    "y_pred"
   ]
  },
  {
   "cell_type": "code",
   "execution_count": 33,
   "metadata": {},
   "outputs": [
    {
     "data": {
      "text/plain": [
       "array([[False],\n",
       "       [False],\n",
       "       [False],\n",
       "       ...,\n",
       "       [False],\n",
       "       [False],\n",
       "       [False]])"
      ]
     },
     "execution_count": 33,
     "metadata": {},
     "output_type": "execute_result"
    }
   ],
   "source": [
    "#less than 50% not leaving the bank\n",
    "y_pred = (y_pred>0.5)\n",
    "y_pred"
   ]
  },
  {
   "cell_type": "code",
   "execution_count": 1,
   "metadata": {},
   "outputs": [
    {
     "name": "stderr",
     "output_type": "stream",
     "text": [
      "Using TensorFlow backend.\n"
     ]
    }
   ],
   "source": [
    "import keras\n",
    "#initializes neural networks\n",
    "from tensorflow.keras.models import Sequential\n",
    "#creates layers in artificial neural networks\n",
    "from keras.layers import Dense\n",
    "from keras.models import Sequential\n",
    "from keras.layers import Dense, Activation, Flatten"
   ]
  },
  {
   "cell_type": "code",
   "execution_count": 2,
   "metadata": {},
   "outputs": [],
   "source": [
    "#Evaluating and improving the ANN, k fold cross validation\n",
    "import keras\n",
    "from keras.wrappers.scikit_learn import KerasClassifier"
   ]
  },
  {
   "cell_type": "code",
   "execution_count": 19,
   "metadata": {},
   "outputs": [],
   "source": [
    "#check if the accuracy is closer to what we obtained earlier\n",
    "#check for low bias and low variance, high accuracies and low differences between them\n",
    "from sklearn.model_selection import cross_val_score\n",
    "def build_classifier():\n",
    "    classifier = Sequential()\n",
    "    classifier.add(Dense(6,kernel_initializer='uniform', activation = 'relu', input_dim=11))\n",
    "    #classifier.add(Activation('relu'))\n",
    "    classifier.add(Dense(output_dim = 6,kernel_initializer = 'uniform', activation = 'relu'))\n",
    "    classifier.add(Dense(output_dim = 1,kernel_initializer = 'uniform', activation = 'sigmoid'))\n",
    "    classifier.compile(optimizer ='adam', loss ='binary_crossentropy', metrics = ['accuracy'])\n",
    "    return classifier\n",
    "classifier = KerasClassifier(build_fn = build_classifier,batch_size = 10, nb_epoch = 100)\n",
    "accuracies = cross_val_score(estimator = classifier, X = X_train, y = y_train, cv = 10, n_jobs = -1 )\n",
    "    \n",
    "                   \n",
    "    "
   ]
  },
  {
   "cell_type": "code",
   "execution_count": 20,
   "metadata": {},
   "outputs": [
    {
     "data": {
      "text/plain": [
       "array([0.78625   , 0.79000002, 0.80000001, 0.78250003, 0.81625003,\n",
       "       0.82499999, 0.78750002, 0.79374999, 0.79874998, 0.79500002])"
      ]
     },
     "execution_count": 20,
     "metadata": {},
     "output_type": "execute_result"
    }
   ],
   "source": [
    "accuracies"
   ]
  },
  {
   "cell_type": "code",
   "execution_count": 24,
   "metadata": {},
   "outputs": [
    {
     "data": {
      "text/plain": [
       "0.012820876732694551"
      ]
     },
     "execution_count": 24,
     "metadata": {},
     "output_type": "execute_result"
    }
   ],
   "source": [
    "mean = accuracies.mean()\n",
    "variance = accuracies.std()\n"
   ]
  },
  {
   "cell_type": "code",
   "execution_count": 26,
   "metadata": {},
   "outputs": [
    {
     "data": {
      "text/plain": [
       "0.7975000083446503"
      ]
     },
     "execution_count": 26,
     "metadata": {},
     "output_type": "execute_result"
    }
   ],
   "source": [
    "mean\n",
    "\n"
   ]
  },
  {
   "cell_type": "code",
   "execution_count": 27,
   "metadata": {},
   "outputs": [
    {
     "data": {
      "text/plain": [
       "0.012820876732694551"
      ]
     },
     "execution_count": 27,
     "metadata": {},
     "output_type": "execute_result"
    }
   ],
   "source": [
    "variance"
   ]
  },
  {
   "cell_type": "code",
   "execution_count": 43,
   "metadata": {},
   "outputs": [],
   "source": [
    "#improving ANN\n",
    "#dropout regularization to reduce overfitting if needed - drop out works this way - at each iteration of the training neurons of\n",
    "#your ANN is randomly disabled to prevent them from being too dependant on each other when they learn the correlations,and therefore\n",
    "#by overiding the neurons, the ANN discovers several independant correlations in the data because each time there is not the\n",
    "#same configurations of the neurons. This prevents the neurons from learning too much, hence preventing over fitting\n",
    "from keras.layers import Dropout\n"
   ]
  },
  {
   "cell_type": "code",
   "execution_count": 44,
   "metadata": {},
   "outputs": [],
   "source": [
    "#parameter tuning with gridsearch\n",
    "import keras\n",
    "from keras.wrappers.scikit_learn import KerasClassifier\n",
    "from sklearn.model_selection import GridSearchCV\n",
    "def build_classifier(optimizer):\n",
    "    classifier = Sequential()\n",
    "    classifier.add(Dense(6,kernel_initializer='uniform', activation = 'relu', input_dim=11))\n",
    "    #classifier.add(Activation('relu'))\n",
    "    classifier.add(Dense(output_dim = 6,kernel_initializer = 'uniform', activation = 'relu'))\n",
    "    classifier.add(Dense(output_dim = 1,kernel_initializer = 'uniform', activation = 'sigmoid'))\n",
    "    classifier.compile(optimizer =optimizer, loss ='binary_crossentropy', metrics = ['accuracy'])\n",
    "    return classifier\n",
    "classifier = KerasClassifier(build_fn = build_classifier)\n"
   ]
  },
  {
   "cell_type": "code",
   "execution_count": 45,
   "metadata": {},
   "outputs": [],
   "source": [
    "#dictionary,hyperparameter and values\n",
    "parameters = {'batch_size': [25,32],\n",
    "             'nb_epoch':[100,500],\n",
    "             'optimizer':['adam','rmsprop']}"
   ]
  },
  {
   "cell_type": "code",
   "execution_count": 46,
   "metadata": {},
   "outputs": [],
   "source": [
    "#k-fold cross validation is going to be used to evaluate the accuracy\n",
    "grid_search = GridSearchCV(estimator = classifier, param_grid = parameters, scoring = 'accuracy', cv=10 )"
   ]
  },
  {
   "cell_type": "code",
   "execution_count": 47,
   "metadata": {},
   "outputs": [
    {
     "name": "stderr",
     "output_type": "stream",
     "text": [
      "C:\\Users\\vu995fy\\AppData\\Local\\Continuum\\anaconda3\\lib\\site-packages\\ipykernel_launcher.py:9: UserWarning: Update your `Dense` call to the Keras 2 API: `Dense(kernel_initializer=\"uniform\", activation=\"relu\", units=6)`\n",
      "  if __name__ == '__main__':\n",
      "C:\\Users\\vu995fy\\AppData\\Local\\Continuum\\anaconda3\\lib\\site-packages\\ipykernel_launcher.py:10: UserWarning: Update your `Dense` call to the Keras 2 API: `Dense(kernel_initializer=\"uniform\", activation=\"sigmoid\", units=1)`\n",
      "  # Remove the CWD from sys.path while we load stuff.\n"
     ]
    },
    {
     "name": "stdout",
     "output_type": "stream",
     "text": [
      "Epoch 1/1\n",
      "7200/7200 [==============================] - 0s 58us/step - loss: 0.6113 - accuracy: 0.7950\n",
      "Epoch 1/1\n",
      "7200/7200 [==============================] - 0s 59us/step - loss: 0.5613 - accuracy: 0.7961\n",
      "Epoch 1/1\n",
      "7200/7200 [==============================] - 0s 63us/step - loss: 0.5694 - accuracy: 0.7943\n",
      "Epoch 1/1\n",
      "7200/7200 [==============================] - 0s 66us/step - loss: 0.5627 - accuracy: 0.7949\n",
      "Epoch 1/1\n",
      "7200/7200 [==============================] - 1s 77us/step - loss: 0.5570 - accuracy: 0.7933\n",
      "Epoch 1/1\n",
      "7200/7200 [==============================] - 0s 67us/step - loss: 0.5527 - accuracy: 0.7936\n",
      "Epoch 1/1\n",
      "7200/7200 [==============================] - 1s 75us/step - loss: 0.5547 - accuracy: 0.7965\n",
      "Epoch 1/1\n",
      "7200/7200 [==============================] - 1s 80us/step - loss: 0.5748 - accuracy: 0.7960\n",
      "Epoch 1/1\n",
      "7200/7200 [==============================] - 1s 75us/step - loss: 0.5507 - accuracy: 0.7956\n",
      "Epoch 1/1\n",
      "7200/7200 [==============================] - 1s 119us/step - loss: 0.5623 - accuracy: 0.7953\n",
      "Epoch 1/1\n",
      "7200/7200 [==============================] - 1s 75us/step - loss: 0.6020 - accuracy: 0.7950\n",
      "Epoch 1/1\n",
      "7200/7200 [==============================] - 1s 127us/step - loss: 0.5766 - accuracy: 0.7962\n",
      "Epoch 1/1\n",
      "7200/7200 [==============================] - 1s 108us/step - loss: 0.6099 - accuracy: 0.7937\n",
      "Epoch 1/1\n",
      "7200/7200 [==============================] - 1s 96us/step - loss: 0.5809 - accuracy: 0.7965\n",
      "Epoch 1/1\n",
      "7200/7200 [==============================] - 1s 99us/step - loss: 0.5857 - accuracy: 0.7921\n",
      "Epoch 1/1\n",
      "7200/7200 [==============================] - 1s 100us/step - loss: 0.5850 - accuracy: 0.7940\n",
      "Epoch 1/1\n",
      "7200/7200 [==============================] - 1s 114us/step - loss: 0.6001 - accuracy: 0.7950\n",
      "Epoch 1/1\n",
      "7200/7200 [==============================] - 1s 106us/step - loss: 0.5898 - accuracy: 0.7957\n",
      "Epoch 1/1\n",
      "7200/7200 [==============================] - 1s 106us/step - loss: 0.5690 - accuracy: 0.7954\n",
      "Epoch 1/1\n",
      "7200/7200 [==============================] - 1s 105us/step - loss: 0.5846 - accuracy: 0.7949\n",
      "Epoch 1/1\n",
      "7200/7200 [==============================] - 1s 141us/step - loss: 0.5547 - accuracy: 0.7957\n",
      "Epoch 1/1\n",
      "7200/7200 [==============================] - 1s 120us/step - loss: 0.5458 - accuracy: 0.7967\n",
      "Epoch 1/1\n",
      "7200/7200 [==============================] - 1s 118us/step - loss: 0.5407 - accuracy: 0.7956\n",
      "Epoch 1/1\n",
      "7200/7200 [==============================] - 1s 115us/step - loss: 0.6080 - accuracy: 0.7956\n",
      "Epoch 1/1\n",
      "7200/7200 [==============================] - 1s 157us/step - loss: 0.5597 - accuracy: 0.7932\n",
      "Epoch 1/1\n",
      "7200/7200 [==============================] - 1s 119us/step - loss: 0.5578 - accuracy: 0.7925\n",
      "Epoch 1/1\n",
      "7200/7200 [==============================] - 1s 130us/step - loss: 0.5600 - accuracy: 0.7961\n",
      "Epoch 1/1\n",
      "7200/7200 [==============================] - 2s 242us/step - loss: 0.5554 - accuracy: 0.7958\n",
      "Epoch 1/1\n",
      "7200/7200 [==============================] - 1s 116us/step - loss: 0.5589 - accuracy: 0.7944\n",
      "Epoch 1/1\n",
      "7200/7200 [==============================] - 1s 133us/step - loss: 0.5794 - accuracy: 0.7949\n",
      "Epoch 1/1\n",
      "7200/7200 [==============================] - 1s 95us/step - loss: 0.5747 - accuracy: 0.7965\n",
      "Epoch 1/1\n",
      "7200/7200 [==============================] - 1s 129us/step - loss: 0.6026 - accuracy: 0.7951\n",
      "Epoch 1/1\n",
      "7200/7200 [==============================] - 1s 101us/step - loss: 0.5769 - accuracy: 0.7950\n",
      "Epoch 1/1\n",
      "7200/7200 [==============================] - 1s 101us/step - loss: 0.6007 - accuracy: 0.7954\n",
      "Epoch 1/1\n",
      "7200/7200 [==============================] - 1s 103us/step - loss: 0.6021 - accuracy: 0.7933\n",
      "Epoch 1/1\n",
      "7200/7200 [==============================] - 1s 127us/step - loss: 0.6050 - accuracy: 0.7933\n",
      "Epoch 1/1\n",
      "7200/7200 [==============================] - 1s 99us/step - loss: 0.6073 - accuracy: 0.7954\n",
      "Epoch 1/1\n",
      "7200/7200 [==============================] - 1s 126us/step - loss: 0.5680 - accuracy: 0.7953\n",
      "Epoch 1/1\n",
      "7200/7200 [==============================] - 1s 131us/step - loss: 0.6208 - accuracy: 0.7947\n",
      "Epoch 1/1\n",
      "7200/7200 [==============================] - 1s 143us/step - loss: 0.5605 - accuracy: 0.7961\n",
      "Epoch 1/1\n",
      "7200/7200 [==============================] - 1s 99us/step - loss: 0.5851 - accuracy: 0.7969\n",
      "Epoch 1/1\n",
      "7200/7200 [==============================] - 1s 112us/step - loss: 0.6093 - accuracy: 0.7940\n",
      "Epoch 1/1\n",
      "7200/7200 [==============================] - 1s 181us/step - loss: 0.6091 - accuracy: 0.7943\n",
      "Epoch 1/1\n",
      "7200/7200 [==============================] - 1s 123us/step - loss: 0.5816 - accuracy: 0.7969\n",
      "Epoch 1/1\n",
      "7200/7200 [==============================] - 1s 150us/step - loss: 0.6385 - accuracy: 0.7907\n",
      "Epoch 1/1\n",
      "7200/7200 [==============================] - 1s 158us/step - loss: 0.6392 - accuracy: 0.7911\n",
      "Epoch 1/1\n",
      "7200/7200 [==============================] - 1s 121us/step - loss: 0.6106 - accuracy: 0.7942\n",
      "Epoch 1/1\n",
      "7200/7200 [==============================] - 1s 150us/step - loss: 0.5813 - accuracy: 0.7953\n",
      "Epoch 1/1\n",
      "7200/7200 [==============================] - 1s 142us/step - loss: 0.5782 - accuracy: 0.7957\n",
      "Epoch 1/1\n",
      "7200/7200 [==============================] - 1s 139us/step - loss: 0.5843 - accuracy: 0.7946\n",
      "Epoch 1/1\n",
      "7200/7200 [==============================] - 2s 211us/step - loss: 0.5981 - accuracy: 0.79670s - loss: 0.6189 - accu\n",
      "Epoch 1/1\n",
      "7200/7200 [==============================] - 2s 209us/step - loss: 0.6046 - accuracy: 0.7946\n",
      "Epoch 1/1\n",
      "7200/7200 [==============================] - 1s 155us/step - loss: 0.6437 - accuracy: 0.7936\n",
      "Epoch 1/1\n",
      "7200/7200 [==============================] - 1s 135us/step - loss: 0.6434 - accuracy: 0.7947\n",
      "Epoch 1/1\n",
      "7200/7200 [==============================] - 1s 143us/step - loss: 0.6209 - accuracy: 0.7919\n",
      "Epoch 1/1\n",
      "7200/7200 [==============================] - 1s 128us/step - loss: 0.6057 - accuracy: 0.7925\n",
      "Epoch 1/1\n",
      "7200/7200 [==============================] - 1s 131us/step - loss: 0.6095 - accuracy: 0.7949\n",
      "Epoch 1/1\n",
      "7200/7200 [==============================] - 1s 130us/step - loss: 0.6044 - accuracy: 0.7962\n",
      "Epoch 1/1\n",
      "7200/7200 [==============================] - 1s 131us/step - loss: 0.5910 - accuracy: 0.7960\n",
      "Epoch 1/1\n",
      "7200/7200 [==============================] - 1s 157us/step - loss: 0.5967 - accuracy: 0.7960\n",
      "Epoch 1/1\n",
      "7200/7200 [==============================] - 1s 162us/step - loss: 0.6017 - accuracy: 0.7950\n",
      "Epoch 1/1\n",
      "7200/7200 [==============================] - 1s 166us/step - loss: 0.5901 - accuracy: 0.7967\n",
      "Epoch 1/1\n",
      "7200/7200 [==============================] - 1s 196us/step - loss: 0.5855 - accuracy: 0.7953\n",
      "Epoch 1/1\n",
      "7200/7200 [==============================] - 1s 151us/step - loss: 0.5841 - accuracy: 0.7954\n",
      "Epoch 1/1\n",
      "7200/7200 [==============================] - 2s 236us/step - loss: 0.5943 - accuracy: 0.7926\n",
      "Epoch 1/1\n",
      "7200/7200 [==============================] - 1s 155us/step - loss: 0.5988 - accuracy: 0.7918\n",
      "Epoch 1/1\n",
      "7200/7200 [==============================] - 1s 165us/step - loss: 0.5877 - accuracy: 0.7967\n",
      "Epoch 1/1\n",
      "7200/7200 [==============================] - 2s 242us/step - loss: 0.5926 - accuracy: 0.7954\n",
      "Epoch 1/1\n",
      "7200/7200 [==============================] - 1s 197us/step - loss: 0.5901 - accuracy: 0.7942\n",
      "Epoch 1/1\n",
      "7200/7200 [==============================] - 1s 186us/step - loss: 0.6009 - accuracy: 0.7953\n",
      "Epoch 1/1\n",
      "7200/7200 [==============================] - 1s 183us/step - loss: 0.6329 - accuracy: 0.7942\n",
      "Epoch 1/1\n",
      "7200/7200 [==============================] - 1s 194us/step - loss: 0.6212 - accuracy: 0.7943\n",
      "Epoch 1/1\n",
      "7200/7200 [==============================] - 1s 208us/step - loss: 0.6045 - accuracy: 0.79440s - loss: 0.6143 - accuracy: 0.\n",
      "Epoch 1/1\n",
      "7200/7200 [==============================] - 2s 263us/step - loss: 0.6164 - accuracy: 0.7964\n",
      "Epoch 1/1\n",
      "7200/7200 [==============================] - 1s 202us/step - loss: 0.5931 - accuracy: 0.7937\n",
      "Epoch 1/1\n",
      "7200/7200 [==============================] - 2s 227us/step - loss: 0.6189 - accuracy: 0.7935\n",
      "Epoch 1/1\n",
      "7200/7200 [==============================] - 1s 205us/step - loss: 0.6069 - accuracy: 0.7964\n",
      "Epoch 1/1\n",
      "7200/7200 [==============================] - 2s 272us/step - loss: 0.5934 - accuracy: 0.7960\n",
      "Epoch 1/1\n",
      "7200/7200 [==============================] - 1s 177us/step - loss: 0.5888 - accuracy: 0.7957\n",
      "Epoch 1/1\n"
     ]
    },
    {
     "name": "stdout",
     "output_type": "stream",
     "text": [
      "7200/7200 [==============================] - 1s 166us/step - loss: 0.6425 - accuracy: 0.7944\n",
      "Epoch 1/1\n",
      "8000/8000 [==============================] - 1s 179us/step - loss: 0.5617 - accuracy: 0.7944\n"
     ]
    },
    {
     "data": {
      "text/plain": [
       "GridSearchCV(cv=10, error_score='raise-deprecating',\n",
       "       estimator=<keras.wrappers.scikit_learn.KerasClassifier object at 0x000001DE91199048>,\n",
       "       fit_params=None, iid='warn', n_jobs=None,\n",
       "       param_grid={'batch_size': [25, 32], 'nb_epoch': [100, 500], 'optimizer': ['adam', 'rmsprop']},\n",
       "       pre_dispatch='2*n_jobs', refit=True, return_train_score='warn',\n",
       "       scoring='accuracy', verbose=0)"
      ]
     },
     "execution_count": 47,
     "metadata": {},
     "output_type": "execute_result"
    }
   ],
   "source": [
    "grid_search.fit(X_train, y_train)"
   ]
  },
  {
   "cell_type": "code",
   "execution_count": 50,
   "metadata": {},
   "outputs": [
    {
     "data": {
      "text/plain": [
       "{'batch_size': 25, 'nb_epoch': 100, 'optimizer': 'adam'}"
      ]
     },
     "execution_count": 50,
     "metadata": {},
     "output_type": "execute_result"
    }
   ],
   "source": [
    "best_parameters = grid_search.best_params_\n",
    "best_parameters"
   ]
  },
  {
   "cell_type": "code",
   "execution_count": 51,
   "metadata": {},
   "outputs": [
    {
     "data": {
      "text/plain": [
       "0.796"
      ]
     },
     "execution_count": 51,
     "metadata": {},
     "output_type": "execute_result"
    }
   ],
   "source": [
    "best_accuracy = grid_search.best_score_\n",
    "best_accuracy"
   ]
  },
  {
   "cell_type": "code",
   "execution_count": null,
   "metadata": {},
   "outputs": [],
   "source": []
  }
 ],
 "metadata": {
  "kernelspec": {
   "display_name": "Python 3",
   "language": "python",
   "name": "python3"
  },
  "language_info": {
   "codemirror_mode": {
    "name": "ipython",
    "version": 3
   },
   "file_extension": ".py",
   "mimetype": "text/x-python",
   "name": "python",
   "nbconvert_exporter": "python",
   "pygments_lexer": "ipython3",
   "version": "3.7.3"
  }
 },
 "nbformat": 4,
 "nbformat_minor": 2
}
